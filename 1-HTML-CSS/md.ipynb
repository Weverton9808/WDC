{
 "cells": [
  {
   "cell_type": "markdown",
   "metadata": {},
   "source": [
    "# title\n",
    "## title\n",
    "### title\n",
    "#### title"
   ]
  },
  {
   "cell_type": "markdown",
   "metadata": {},
   "source": [
    "text\n",
    "`text`. \n",
    "**text**.\n",
    "_text_\n",
    "~~text~~"
   ]
  },
  {
   "cell_type": "markdown",
   "metadata": {},
   "source": [
    "- rtx3000\n",
    "- placa-mãe\n",
    "\n",
    "1. Ter dinheiro\n",
    "2. Comprar\n",
    "\n",
    "- gabinete\n",
    "  - memória ram\n",
    "  - hd\n",
    "    - fonte\n",
    "    - cooler\n",
    "\n",
    "I. alguma coisa\n",
    "II. outra coisa"
   ]
  },
  {
   "cell_type": "markdown",
   "metadata": {},
   "source": [
    "[google](https://www.google.com)\n"
   ]
  },
  {
   "cell_type": "markdown",
   "metadata": {},
   "source": [
    "![image](./HTML-CSS/class03-lists/chef.jpg)"
   ]
  },
  {
   "cell_type": "markdown",
   "metadata": {},
   "source": [
    "```html\n",
    "<a src=\"link\" alt=\"text\">\n",
    "```\n",
    "\n",
    "\n",
    "```css\n",
    "h1 {\n",
    "  color: red;\n",
    "}\n",
    "```\n",
    "\n",
    "\n",
    "```md\n",
    "> This is a quote\n",
    "```"
   ]
  },
  {
   "cell_type": "markdown",
   "metadata": {},
   "source": [
    "|nome|cpf|\n",
    "|----|---|\n",
    "|Emanuel|123|"
   ]
  }
 ],
 "metadata": {
  "language_info": {
   "name": "python"
  }
 },
 "nbformat": 4,
 "nbformat_minor": 2
}
